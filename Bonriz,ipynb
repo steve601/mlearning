import matplotlib.pyplot as plt
x = (25,26,27,28,29,30,31,32,33,34,35)
y = (34,45,47,56,54,69,70,89,93,100)

plt.plot(x,y)
plt.show()